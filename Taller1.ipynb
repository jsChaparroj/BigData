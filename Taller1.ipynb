{
  "nbformat": 4,
  "nbformat_minor": 0,
  "metadata": {
    "colab": {
      "name": "BigData.ipynb",
      "provenance": [],
      "collapsed_sections": [],
      "mount_file_id": "1IzVQSgYmtbtcEUGDmIJLkCHTXOHIpFzj",
      "authorship_tag": "ABX9TyPMnZOzv8cZV8rs74Y2WsDy",
      "include_colab_link": true
    },
    "kernelspec": {
      "name": "python3",
      "display_name": "Python 3"
    },
    "language_info": {
      "name": "python"
    }
  },
  "cells": [
    {
      "cell_type": "markdown",
      "metadata": {
        "id": "view-in-github",
        "colab_type": "text"
      },
      "source": [
        "<a href=\"https://colab.research.google.com/github/jsChaparroj/BigData/blob/main/Taller1.ipynb\" target=\"_parent\"><img src=\"https://colab.research.google.com/assets/colab-badge.svg\" alt=\"Open In Colab\"/></a>"
      ]
    },
    {
      "cell_type": "markdown",
      "source": [
        "# Taller 1 Primer Corte 2022 II"
      ],
      "metadata": {
        "id": "bRN7XARncOnz"
      }
    },
    {
      "cell_type": "code",
      "execution_count": null,
      "metadata": {
        "id": "-lHVmDQ3YjYU"
      },
      "outputs": [],
      "source": [
        "import pandas as pd\n",
        "import matplotlib.pyplot as plt\n",
        "import seaborn as sns\n",
        "import numpy as np"
      ]
    },
    {
      "cell_type": "code",
      "source": [
        "netflix = pd.read_csv(\"/content/drive/MyDrive/V semestre/BigData/1erCorte/Netflix subscription fee Dec-2021.csv\",\n",
        "                        sep =\";\")"
      ],
      "metadata": {
        "id": "H3B5j2tIaNsc"
      },
      "execution_count": null,
      "outputs": []
    },
    {
      "cell_type": "code",
      "source": [
        "netflix.head()"
      ],
      "metadata": {
        "colab": {
          "base_uri": "https://localhost:8080/",
          "height": 268
        },
        "id": "2tGn8dDqaa_M",
        "outputId": "fb3b41af-0bea-4816-db51-20f171de52dd"
      },
      "execution_count": null,
      "outputs": [
        {
          "output_type": "execute_result",
          "data": {
            "text/plain": [
              "  Country_code    Country  Total Library Size  No. of TV Shows  No. of Movies  \\\n",
              "0           ar  Argentina              4760.0           3154.0         1606.0   \n",
              "1           au  Australia              6114.0           4050.0         2064.0   \n",
              "2           at    Austria              5640.0           3779.0         1861.0   \n",
              "3           be    Belgium                 NaN           3374.0         1616.0   \n",
              "4           bo    Bolivia              4991.0           3155.0         1836.0   \n",
              "\n",
              "   Cost Per Month - Basic ($)  Cost Per Month - Standard ($)  \\\n",
              "0                        3.74                           6.30   \n",
              "1                        7.84                          12.12   \n",
              "2                        9.03                          14.67   \n",
              "3                       10.16                          15.24   \n",
              "4                        7.99                          10.99   \n",
              "\n",
              "   Cost Per Month - Premium ($)  \n",
              "0                          9.26  \n",
              "1                         16.39  \n",
              "2                         20.32  \n",
              "3                         20.32  \n",
              "4                         13.99  "
            ],
            "text/html": [
              "\n",
              "  <div id=\"df-c2e64964-9b53-446b-85c1-c731e3af876f\">\n",
              "    <div class=\"colab-df-container\">\n",
              "      <div>\n",
              "<style scoped>\n",
              "    .dataframe tbody tr th:only-of-type {\n",
              "        vertical-align: middle;\n",
              "    }\n",
              "\n",
              "    .dataframe tbody tr th {\n",
              "        vertical-align: top;\n",
              "    }\n",
              "\n",
              "    .dataframe thead th {\n",
              "        text-align: right;\n",
              "    }\n",
              "</style>\n",
              "<table border=\"1\" class=\"dataframe\">\n",
              "  <thead>\n",
              "    <tr style=\"text-align: right;\">\n",
              "      <th></th>\n",
              "      <th>Country_code</th>\n",
              "      <th>Country</th>\n",
              "      <th>Total Library Size</th>\n",
              "      <th>No. of TV Shows</th>\n",
              "      <th>No. of Movies</th>\n",
              "      <th>Cost Per Month - Basic ($)</th>\n",
              "      <th>Cost Per Month - Standard ($)</th>\n",
              "      <th>Cost Per Month - Premium ($)</th>\n",
              "    </tr>\n",
              "  </thead>\n",
              "  <tbody>\n",
              "    <tr>\n",
              "      <th>0</th>\n",
              "      <td>ar</td>\n",
              "      <td>Argentina</td>\n",
              "      <td>4760.0</td>\n",
              "      <td>3154.0</td>\n",
              "      <td>1606.0</td>\n",
              "      <td>3.74</td>\n",
              "      <td>6.30</td>\n",
              "      <td>9.26</td>\n",
              "    </tr>\n",
              "    <tr>\n",
              "      <th>1</th>\n",
              "      <td>au</td>\n",
              "      <td>Australia</td>\n",
              "      <td>6114.0</td>\n",
              "      <td>4050.0</td>\n",
              "      <td>2064.0</td>\n",
              "      <td>7.84</td>\n",
              "      <td>12.12</td>\n",
              "      <td>16.39</td>\n",
              "    </tr>\n",
              "    <tr>\n",
              "      <th>2</th>\n",
              "      <td>at</td>\n",
              "      <td>Austria</td>\n",
              "      <td>5640.0</td>\n",
              "      <td>3779.0</td>\n",
              "      <td>1861.0</td>\n",
              "      <td>9.03</td>\n",
              "      <td>14.67</td>\n",
              "      <td>20.32</td>\n",
              "    </tr>\n",
              "    <tr>\n",
              "      <th>3</th>\n",
              "      <td>be</td>\n",
              "      <td>Belgium</td>\n",
              "      <td>NaN</td>\n",
              "      <td>3374.0</td>\n",
              "      <td>1616.0</td>\n",
              "      <td>10.16</td>\n",
              "      <td>15.24</td>\n",
              "      <td>20.32</td>\n",
              "    </tr>\n",
              "    <tr>\n",
              "      <th>4</th>\n",
              "      <td>bo</td>\n",
              "      <td>Bolivia</td>\n",
              "      <td>4991.0</td>\n",
              "      <td>3155.0</td>\n",
              "      <td>1836.0</td>\n",
              "      <td>7.99</td>\n",
              "      <td>10.99</td>\n",
              "      <td>13.99</td>\n",
              "    </tr>\n",
              "  </tbody>\n",
              "</table>\n",
              "</div>\n",
              "      <button class=\"colab-df-convert\" onclick=\"convertToInteractive('df-c2e64964-9b53-446b-85c1-c731e3af876f')\"\n",
              "              title=\"Convert this dataframe to an interactive table.\"\n",
              "              style=\"display:none;\">\n",
              "        \n",
              "  <svg xmlns=\"http://www.w3.org/2000/svg\" height=\"24px\"viewBox=\"0 0 24 24\"\n",
              "       width=\"24px\">\n",
              "    <path d=\"M0 0h24v24H0V0z\" fill=\"none\"/>\n",
              "    <path d=\"M18.56 5.44l.94 2.06.94-2.06 2.06-.94-2.06-.94-.94-2.06-.94 2.06-2.06.94zm-11 1L8.5 8.5l.94-2.06 2.06-.94-2.06-.94L8.5 2.5l-.94 2.06-2.06.94zm10 10l.94 2.06.94-2.06 2.06-.94-2.06-.94-.94-2.06-.94 2.06-2.06.94z\"/><path d=\"M17.41 7.96l-1.37-1.37c-.4-.4-.92-.59-1.43-.59-.52 0-1.04.2-1.43.59L10.3 9.45l-7.72 7.72c-.78.78-.78 2.05 0 2.83L4 21.41c.39.39.9.59 1.41.59.51 0 1.02-.2 1.41-.59l7.78-7.78 2.81-2.81c.8-.78.8-2.07 0-2.86zM5.41 20L4 18.59l7.72-7.72 1.47 1.35L5.41 20z\"/>\n",
              "  </svg>\n",
              "      </button>\n",
              "      \n",
              "  <style>\n",
              "    .colab-df-container {\n",
              "      display:flex;\n",
              "      flex-wrap:wrap;\n",
              "      gap: 12px;\n",
              "    }\n",
              "\n",
              "    .colab-df-convert {\n",
              "      background-color: #E8F0FE;\n",
              "      border: none;\n",
              "      border-radius: 50%;\n",
              "      cursor: pointer;\n",
              "      display: none;\n",
              "      fill: #1967D2;\n",
              "      height: 32px;\n",
              "      padding: 0 0 0 0;\n",
              "      width: 32px;\n",
              "    }\n",
              "\n",
              "    .colab-df-convert:hover {\n",
              "      background-color: #E2EBFA;\n",
              "      box-shadow: 0px 1px 2px rgba(60, 64, 67, 0.3), 0px 1px 3px 1px rgba(60, 64, 67, 0.15);\n",
              "      fill: #174EA6;\n",
              "    }\n",
              "\n",
              "    [theme=dark] .colab-df-convert {\n",
              "      background-color: #3B4455;\n",
              "      fill: #D2E3FC;\n",
              "    }\n",
              "\n",
              "    [theme=dark] .colab-df-convert:hover {\n",
              "      background-color: #434B5C;\n",
              "      box-shadow: 0px 1px 3px 1px rgba(0, 0, 0, 0.15);\n",
              "      filter: drop-shadow(0px 1px 2px rgba(0, 0, 0, 0.3));\n",
              "      fill: #FFFFFF;\n",
              "    }\n",
              "  </style>\n",
              "\n",
              "      <script>\n",
              "        const buttonEl =\n",
              "          document.querySelector('#df-c2e64964-9b53-446b-85c1-c731e3af876f button.colab-df-convert');\n",
              "        buttonEl.style.display =\n",
              "          google.colab.kernel.accessAllowed ? 'block' : 'none';\n",
              "\n",
              "        async function convertToInteractive(key) {\n",
              "          const element = document.querySelector('#df-c2e64964-9b53-446b-85c1-c731e3af876f');\n",
              "          const dataTable =\n",
              "            await google.colab.kernel.invokeFunction('convertToInteractive',\n",
              "                                                     [key], {});\n",
              "          if (!dataTable) return;\n",
              "\n",
              "          const docLinkHtml = 'Like what you see? Visit the ' +\n",
              "            '<a target=\"_blank\" href=https://colab.research.google.com/notebooks/data_table.ipynb>data table notebook</a>'\n",
              "            + ' to learn more about interactive tables.';\n",
              "          element.innerHTML = '';\n",
              "          dataTable['output_type'] = 'display_data';\n",
              "          await google.colab.output.renderOutput(dataTable, element);\n",
              "          const docLink = document.createElement('div');\n",
              "          docLink.innerHTML = docLinkHtml;\n",
              "          element.appendChild(docLink);\n",
              "        }\n",
              "      </script>\n",
              "    </div>\n",
              "  </div>\n",
              "  "
            ]
          },
          "metadata": {},
          "execution_count": 33
        }
      ]
    },
    {
      "cell_type": "code",
      "source": [
        "netflix.describe()"
      ],
      "metadata": {
        "colab": {
          "base_uri": "https://localhost:8080/",
          "height": 362
        },
        "id": "ppznl1Coal5z",
        "outputId": "69cad0e6-d2cb-437c-dd38-dc309015609c"
      },
      "execution_count": null,
      "outputs": [
        {
          "output_type": "execute_result",
          "data": {
            "text/plain": [
              "       Total Library Size  No. of TV Shows  No. of Movies  \\\n",
              "count           62.000000        63.000000      62.000000   \n",
              "mean          5330.112903      3522.587302    1789.467742   \n",
              "std           1001.433663       732.913995     333.012613   \n",
              "min           2274.000000      1675.000000     373.000000   \n",
              "25%           4834.750000      3154.000000    1619.000000   \n",
              "50%           5266.000000      3512.000000    1846.500000   \n",
              "75%           6051.000000      3917.500000    1979.500000   \n",
              "max           7325.000000      5234.000000    2387.000000   \n",
              "\n",
              "       Cost Per Month - Basic ($)  Cost Per Month - Standard ($)  \\\n",
              "count                   63.000000                      62.000000   \n",
              "mean                     8.372381                      12.093548   \n",
              "std                      1.968589                       2.862333   \n",
              "min                      1.970000                       3.000000   \n",
              "25%                      7.950000                      10.877500   \n",
              "50%                      8.990000                      11.490000   \n",
              "75%                      9.030000                      13.877500   \n",
              "max                     12.880000                      20.460000   \n",
              "\n",
              "       Cost Per Month - Premium ($)  \n",
              "count                     62.000000  \n",
              "mean                      15.424677  \n",
              "std                        3.849871  \n",
              "min                        4.020000  \n",
              "25%                       13.540000  \n",
              "50%                       14.345000  \n",
              "75%                       18.060000  \n",
              "max                       26.960000  "
            ],
            "text/html": [
              "\n",
              "  <div id=\"df-08c2106f-1cb7-47e9-93b3-d3e5d8376fbf\">\n",
              "    <div class=\"colab-df-container\">\n",
              "      <div>\n",
              "<style scoped>\n",
              "    .dataframe tbody tr th:only-of-type {\n",
              "        vertical-align: middle;\n",
              "    }\n",
              "\n",
              "    .dataframe tbody tr th {\n",
              "        vertical-align: top;\n",
              "    }\n",
              "\n",
              "    .dataframe thead th {\n",
              "        text-align: right;\n",
              "    }\n",
              "</style>\n",
              "<table border=\"1\" class=\"dataframe\">\n",
              "  <thead>\n",
              "    <tr style=\"text-align: right;\">\n",
              "      <th></th>\n",
              "      <th>Total Library Size</th>\n",
              "      <th>No. of TV Shows</th>\n",
              "      <th>No. of Movies</th>\n",
              "      <th>Cost Per Month - Basic ($)</th>\n",
              "      <th>Cost Per Month - Standard ($)</th>\n",
              "      <th>Cost Per Month - Premium ($)</th>\n",
              "    </tr>\n",
              "  </thead>\n",
              "  <tbody>\n",
              "    <tr>\n",
              "      <th>count</th>\n",
              "      <td>62.000000</td>\n",
              "      <td>63.000000</td>\n",
              "      <td>62.000000</td>\n",
              "      <td>63.000000</td>\n",
              "      <td>62.000000</td>\n",
              "      <td>62.000000</td>\n",
              "    </tr>\n",
              "    <tr>\n",
              "      <th>mean</th>\n",
              "      <td>5330.112903</td>\n",
              "      <td>3522.587302</td>\n",
              "      <td>1789.467742</td>\n",
              "      <td>8.372381</td>\n",
              "      <td>12.093548</td>\n",
              "      <td>15.424677</td>\n",
              "    </tr>\n",
              "    <tr>\n",
              "      <th>std</th>\n",
              "      <td>1001.433663</td>\n",
              "      <td>732.913995</td>\n",
              "      <td>333.012613</td>\n",
              "      <td>1.968589</td>\n",
              "      <td>2.862333</td>\n",
              "      <td>3.849871</td>\n",
              "    </tr>\n",
              "    <tr>\n",
              "      <th>min</th>\n",
              "      <td>2274.000000</td>\n",
              "      <td>1675.000000</td>\n",
              "      <td>373.000000</td>\n",
              "      <td>1.970000</td>\n",
              "      <td>3.000000</td>\n",
              "      <td>4.020000</td>\n",
              "    </tr>\n",
              "    <tr>\n",
              "      <th>25%</th>\n",
              "      <td>4834.750000</td>\n",
              "      <td>3154.000000</td>\n",
              "      <td>1619.000000</td>\n",
              "      <td>7.950000</td>\n",
              "      <td>10.877500</td>\n",
              "      <td>13.540000</td>\n",
              "    </tr>\n",
              "    <tr>\n",
              "      <th>50%</th>\n",
              "      <td>5266.000000</td>\n",
              "      <td>3512.000000</td>\n",
              "      <td>1846.500000</td>\n",
              "      <td>8.990000</td>\n",
              "      <td>11.490000</td>\n",
              "      <td>14.345000</td>\n",
              "    </tr>\n",
              "    <tr>\n",
              "      <th>75%</th>\n",
              "      <td>6051.000000</td>\n",
              "      <td>3917.500000</td>\n",
              "      <td>1979.500000</td>\n",
              "      <td>9.030000</td>\n",
              "      <td>13.877500</td>\n",
              "      <td>18.060000</td>\n",
              "    </tr>\n",
              "    <tr>\n",
              "      <th>max</th>\n",
              "      <td>7325.000000</td>\n",
              "      <td>5234.000000</td>\n",
              "      <td>2387.000000</td>\n",
              "      <td>12.880000</td>\n",
              "      <td>20.460000</td>\n",
              "      <td>26.960000</td>\n",
              "    </tr>\n",
              "  </tbody>\n",
              "</table>\n",
              "</div>\n",
              "      <button class=\"colab-df-convert\" onclick=\"convertToInteractive('df-08c2106f-1cb7-47e9-93b3-d3e5d8376fbf')\"\n",
              "              title=\"Convert this dataframe to an interactive table.\"\n",
              "              style=\"display:none;\">\n",
              "        \n",
              "  <svg xmlns=\"http://www.w3.org/2000/svg\" height=\"24px\"viewBox=\"0 0 24 24\"\n",
              "       width=\"24px\">\n",
              "    <path d=\"M0 0h24v24H0V0z\" fill=\"none\"/>\n",
              "    <path d=\"M18.56 5.44l.94 2.06.94-2.06 2.06-.94-2.06-.94-.94-2.06-.94 2.06-2.06.94zm-11 1L8.5 8.5l.94-2.06 2.06-.94-2.06-.94L8.5 2.5l-.94 2.06-2.06.94zm10 10l.94 2.06.94-2.06 2.06-.94-2.06-.94-.94-2.06-.94 2.06-2.06.94z\"/><path d=\"M17.41 7.96l-1.37-1.37c-.4-.4-.92-.59-1.43-.59-.52 0-1.04.2-1.43.59L10.3 9.45l-7.72 7.72c-.78.78-.78 2.05 0 2.83L4 21.41c.39.39.9.59 1.41.59.51 0 1.02-.2 1.41-.59l7.78-7.78 2.81-2.81c.8-.78.8-2.07 0-2.86zM5.41 20L4 18.59l7.72-7.72 1.47 1.35L5.41 20z\"/>\n",
              "  </svg>\n",
              "      </button>\n",
              "      \n",
              "  <style>\n",
              "    .colab-df-container {\n",
              "      display:flex;\n",
              "      flex-wrap:wrap;\n",
              "      gap: 12px;\n",
              "    }\n",
              "\n",
              "    .colab-df-convert {\n",
              "      background-color: #E8F0FE;\n",
              "      border: none;\n",
              "      border-radius: 50%;\n",
              "      cursor: pointer;\n",
              "      display: none;\n",
              "      fill: #1967D2;\n",
              "      height: 32px;\n",
              "      padding: 0 0 0 0;\n",
              "      width: 32px;\n",
              "    }\n",
              "\n",
              "    .colab-df-convert:hover {\n",
              "      background-color: #E2EBFA;\n",
              "      box-shadow: 0px 1px 2px rgba(60, 64, 67, 0.3), 0px 1px 3px 1px rgba(60, 64, 67, 0.15);\n",
              "      fill: #174EA6;\n",
              "    }\n",
              "\n",
              "    [theme=dark] .colab-df-convert {\n",
              "      background-color: #3B4455;\n",
              "      fill: #D2E3FC;\n",
              "    }\n",
              "\n",
              "    [theme=dark] .colab-df-convert:hover {\n",
              "      background-color: #434B5C;\n",
              "      box-shadow: 0px 1px 3px 1px rgba(0, 0, 0, 0.15);\n",
              "      filter: drop-shadow(0px 1px 2px rgba(0, 0, 0, 0.3));\n",
              "      fill: #FFFFFF;\n",
              "    }\n",
              "  </style>\n",
              "\n",
              "      <script>\n",
              "        const buttonEl =\n",
              "          document.querySelector('#df-08c2106f-1cb7-47e9-93b3-d3e5d8376fbf button.colab-df-convert');\n",
              "        buttonEl.style.display =\n",
              "          google.colab.kernel.accessAllowed ? 'block' : 'none';\n",
              "\n",
              "        async function convertToInteractive(key) {\n",
              "          const element = document.querySelector('#df-08c2106f-1cb7-47e9-93b3-d3e5d8376fbf');\n",
              "          const dataTable =\n",
              "            await google.colab.kernel.invokeFunction('convertToInteractive',\n",
              "                                                     [key], {});\n",
              "          if (!dataTable) return;\n",
              "\n",
              "          const docLinkHtml = 'Like what you see? Visit the ' +\n",
              "            '<a target=\"_blank\" href=https://colab.research.google.com/notebooks/data_table.ipynb>data table notebook</a>'\n",
              "            + ' to learn more about interactive tables.';\n",
              "          element.innerHTML = '';\n",
              "          dataTable['output_type'] = 'display_data';\n",
              "          await google.colab.output.renderOutput(dataTable, element);\n",
              "          const docLink = document.createElement('div');\n",
              "          docLink.innerHTML = docLinkHtml;\n",
              "          element.appendChild(docLink);\n",
              "        }\n",
              "      </script>\n",
              "    </div>\n",
              "  </div>\n",
              "  "
            ]
          },
          "metadata": {},
          "execution_count": 5
        }
      ]
    },
    {
      "cell_type": "code",
      "source": [
        "netflix.info()"
      ],
      "metadata": {
        "colab": {
          "base_uri": "https://localhost:8080/"
        },
        "id": "raFpoMjga7t0",
        "outputId": "5649f1fc-1b06-4d3b-cd9d-8790e654f839"
      },
      "execution_count": null,
      "outputs": [
        {
          "output_type": "stream",
          "name": "stdout",
          "text": [
            "<class 'pandas.core.frame.DataFrame'>\n",
            "RangeIndex: 65 entries, 0 to 64\n",
            "Data columns (total 8 columns):\n",
            " #   Column                         Non-Null Count  Dtype  \n",
            "---  ------                         --------------  -----  \n",
            " 0   Country_code                   65 non-null     object \n",
            " 1   Country                        65 non-null     object \n",
            " 2   Total Library Size             62 non-null     float64\n",
            " 3   No. of TV Shows                63 non-null     float64\n",
            " 4   No. of Movies                  62 non-null     float64\n",
            " 5   Cost Per Month - Basic ($)     63 non-null     float64\n",
            " 6   Cost Per Month - Standard ($)  62 non-null     float64\n",
            " 7   Cost Per Month - Premium ($)   62 non-null     float64\n",
            "dtypes: float64(6), object(2)\n",
            "memory usage: 4.2+ KB\n"
          ]
        }
      ]
    },
    {
      "cell_type": "markdown",
      "source": [
        "### Valores ausentes"
      ],
      "metadata": {
        "id": "X-cGluzKcp5t"
      }
    },
    {
      "cell_type": "code",
      "source": [
        "valores_nas = netflix.isnull().sum()\n",
        "valores_nas = valores_nas[valores_nas>0]\n",
        "valores_nas"
      ],
      "metadata": {
        "colab": {
          "base_uri": "https://localhost:8080/"
        },
        "id": "Ndce5IErbMRe",
        "outputId": "7f815cad-b12d-4321-eb3b-3d0ab70527e2"
      },
      "execution_count": null,
      "outputs": [
        {
          "output_type": "execute_result",
          "data": {
            "text/plain": [
              "Total Library Size               3\n",
              "No. of TV Shows                  2\n",
              "No. of Movies                    3\n",
              "Cost Per Month - Basic ($)       2\n",
              "Cost Per Month - Standard ($)    3\n",
              "Cost Per Month - Premium ($)     3\n",
              "dtype: int64"
            ]
          },
          "metadata": {},
          "execution_count": 7
        }
      ]
    },
    {
      "cell_type": "code",
      "source": [
        "fig, ax = plt.subplots(figsize=(10,5))\n",
        "ax.barh(y = valores_nas.index , width= valores_nas.values)\n",
        "ax.set_title(\"Valores Ausentes\")\n",
        "ax.set_xlabel(\"Cantidad\")"
      ],
      "metadata": {
        "colab": {
          "base_uri": "https://localhost:8080/",
          "height": 367
        },
        "id": "4rpDXVb-bqB7",
        "outputId": "2d7efb22-a052-4204-d884-d795d558bdbc"
      },
      "execution_count": null,
      "outputs": [
        {
          "output_type": "execute_result",
          "data": {
            "text/plain": [
              "Text(0.5, 0, 'Cantidad')"
            ]
          },
          "metadata": {},
          "execution_count": 8
        },
        {
          "output_type": "display_data",
          "data": {
            "text/plain": [
              "<Figure size 720x360 with 1 Axes>"
            ],
            "image/png": "[encoded data removed]"
          },
          "metadata": {
            "needs_background": "light"
          }
        }
      ]
    },
    {
      "cell_type": "markdown",
      "source": [
        "### 2. Hacer imputación de datos con las siguientes opciones:\n"
      ],
      "metadata": {
        "id": "Ko5LlhWuesoB"
      }
    },
    {
      "cell_type": "markdown",
      "source": [
        "#### 1. Omitir las filas con observaciones NA\n"
      ],
      "metadata": {
        "id": "SpK1VFNWfCcQ"
      }
    },
    {
      "cell_type": "code",
      "source": [
        "punto2_1 = netflix.dropna(how=\"any\" )\n",
        "print(len(netflix))\n",
        "print(len(punto2_1))"
      ],
      "metadata": {
        "colab": {
          "base_uri": "https://localhost:8080/"
        },
        "id": "jXMn9PCjfFnQ",
        "outputId": "b781d8fd-0658-4256-8774-228030ab724b"
      },
      "execution_count": null,
      "outputs": [
        {
          "output_type": "stream",
          "name": "stdout",
          "text": [
            "65\n",
            "53\n"
          ]
        }
      ]
    },
    {
      "cell_type": "code",
      "source": [
        "punto2_1.isnull().sum()"
      ],
      "metadata": {
        "colab": {
          "base_uri": "https://localhost:8080/"
        },
        "id": "towCKD0gf2tr",
        "outputId": "7f4f18b8-02f2-474d-9058-71a5d0377620"
      },
      "execution_count": null,
      "outputs": [
        {
          "output_type": "execute_result",
          "data": {
            "text/plain": [
              "Country_code                     0\n",
              "Country                          0\n",
              "Total Library Size               0\n",
              "No. of TV Shows                  0\n",
              "No. of Movies                    0\n",
              "Cost Per Month - Basic ($)       0\n",
              "Cost Per Month - Standard ($)    0\n",
              "Cost Per Month - Premium ($)     0\n",
              "dtype: int64"
            ]
          },
          "metadata": {},
          "execution_count": 10
        }
      ]
    },
    {
      "cell_type": "markdown",
      "source": [
        "#### 2. Imputar con la media"
      ],
      "metadata": {
        "id": "r1bnfzqQgT4r"
      }
    },
    {
      "cell_type": "code",
      "source": [
        "medias = netflix.mean()"
      ],
      "metadata": {
        "colab": {
          "base_uri": "https://localhost:8080/"
        },
        "id": "TovZiOsjgTW5",
        "outputId": "07ce7894-b91c-4e34-ad15-47dfd33d9ea8"
      },
      "execution_count": null,
      "outputs": [
        {
          "output_type": "stream",
          "name": "stderr",
          "text": [
            "/usr/local/lib/python3.7/dist-packages/ipykernel_launcher.py:1: FutureWarning: Dropping of nuisance columns in DataFrame reductions (with 'numeric_only=None') is deprecated; in a future version this will raise TypeError.  Select only valid columns before calling the reduction.\n",
            "  \"\"\"Entry point for launching an IPython kernel.\n"
          ]
        }
      ]
    },
    {
      "cell_type": "code",
      "source": [
        "datos2_2  = netflix.fillna(medias)\n",
        "medias"
      ],
      "metadata": {
        "colab": {
          "base_uri": "https://localhost:8080/"
        },
        "id": "owXSv3oDgtbI",
        "outputId": "478a19cb-7f28-489f-e31b-2cee7543d1d9"
      },
      "execution_count": null,
      "outputs": [
        {
          "output_type": "execute_result",
          "data": {
            "text/plain": [
              "Total Library Size               5330.112903\n",
              "No. of TV Shows                  3522.587302\n",
              "No. of Movies                    1789.467742\n",
              "Cost Per Month - Basic ($)          8.372381\n",
              "Cost Per Month - Standard ($)      12.093548\n",
              "Cost Per Month - Premium ($)       15.424677\n",
              "dtype: float64"
            ]
          },
          "metadata": {},
          "execution_count": 12
        }
      ]
    },
    {
      "cell_type": "code",
      "source": [
        "datos2_2.isnull().sum()"
      ],
      "metadata": {
        "colab": {
          "base_uri": "https://localhost:8080/"
        },
        "id": "Dd6oChF2gqkK",
        "outputId": "318ee913-76b3-4dee-fd53-f44ce3542f4a"
      },
      "execution_count": null,
      "outputs": [
        {
          "output_type": "execute_result",
          "data": {
            "text/plain": [
              "Country_code                     0\n",
              "Country                          0\n",
              "Total Library Size               0\n",
              "No. of TV Shows                  0\n",
              "No. of Movies                    0\n",
              "Cost Per Month - Basic ($)       0\n",
              "Cost Per Month - Standard ($)    0\n",
              "Cost Per Month - Premium ($)     0\n",
              "dtype: int64"
            ]
          },
          "metadata": {},
          "execution_count": 13
        }
      ]
    },
    {
      "cell_type": "code",
      "source": [
        "datos2_2.head()"
      ],
      "metadata": {
        "colab": {
          "base_uri": "https://localhost:8080/",
          "height": 268
        },
        "id": "putV-WqxhHuS",
        "outputId": "95f02ce0-9ebb-4ab9-bec1-42f78c64ed93"
      },
      "execution_count": null,
      "outputs": [
        {
          "output_type": "execute_result",
          "data": {
            "text/plain": [
              "  Country_code    Country  Total Library Size  No. of TV Shows  No. of Movies  \\\n",
              "0           ar  Argentina         4760.000000           3154.0         1606.0   \n",
              "1           au  Australia         6114.000000           4050.0         2064.0   \n",
              "2           at    Austria         5640.000000           3779.0         1861.0   \n",
              "3           be    Belgium         5330.112903           3374.0         1616.0   \n",
              "4           bo    Bolivia         4991.000000           3155.0         1836.0   \n",
              "\n",
              "   Cost Per Month - Basic ($)  Cost Per Month - Standard ($)  \\\n",
              "0                        3.74                           6.30   \n",
              "1                        7.84                          12.12   \n",
              "2                        9.03                          14.67   \n",
              "3                       10.16                          15.24   \n",
              "4                        7.99                          10.99   \n",
              "\n",
              "   Cost Per Month - Premium ($)  \n",
              "0                          9.26  \n",
              "1                         16.39  \n",
              "2                         20.32  \n",
              "3                         20.32  \n",
              "4                         13.99  "
            ],
            "text/html": [
              "\n",
              "  <div id=\"df-e8aefec9-45d2-457f-8d24-0ae2c86000d8\">\n",
              "    <div class=\"colab-df-container\">\n",
              "      <div>\n",
              "<style scoped>\n",
              "    .dataframe tbody tr th:only-of-type {\n",
              "        vertical-align: middle;\n",
              "    }\n",
              "\n",
              "    .dataframe tbody tr th {\n",
              "        vertical-align: top;\n",
              "    }\n",
              "\n",
              "    .dataframe thead th {\n",
              "        text-align: right;\n",
              "    }\n",
              "</style>\n",
              "<table border=\"1\" class=\"dataframe\">\n",
              "  <thead>\n",
              "    <tr style=\"text-align: right;\">\n",
              "      <th></th>\n",
              "      <th>Country_code</th>\n",
              "      <th>Country</th>\n",
              "      <th>Total Library Size</th>\n",
              "      <th>No. of TV Shows</th>\n",
              "      <th>No. of Movies</th>\n",
              "      <th>Cost Per Month - Basic ($)</th>\n",
              "      <th>Cost Per Month - Standard ($)</th>\n",
              "      <th>Cost Per Month - Premium ($)</th>\n",
              "    </tr>\n",
              "  </thead>\n",
              "  <tbody>\n",
              "    <tr>\n",
              "      <th>0</th>\n",
              "      <td>ar</td>\n",
              "      <td>Argentina</td>\n",
              "      <td>4760.000000</td>\n",
              "      <td>3154.0</td>\n",
              "      <td>1606.0</td>\n",
              "      <td>3.74</td>\n",
              "      <td>6.30</td>\n",
              "      <td>9.26</td>\n",
              "    </tr>\n",
              "    <tr>\n",
              "      <th>1</th>\n",
              "      <td>au</td>\n",
              "      <td>Australia</td>\n",
              "      <td>6114.000000</td>\n",
              "      <td>4050.0</td>\n",
              "      <td>2064.0</td>\n",
              "      <td>7.84</td>\n",
              "      <td>12.12</td>\n",
              "      <td>16.39</td>\n",
              "    </tr>\n",
              "    <tr>\n",
              "      <th>2</th>\n",
              "      <td>at</td>\n",
              "      <td>Austria</td>\n",
              "      <td>5640.000000</td>\n",
              "      <td>3779.0</td>\n",
              "      <td>1861.0</td>\n",
              "      <td>9.03</td>\n",
              "      <td>14.67</td>\n",
              "      <td>20.32</td>\n",
              "    </tr>\n",
              "    <tr>\n",
              "      <th>3</th>\n",
              "      <td>be</td>\n",
              "      <td>Belgium</td>\n",
              "      <td>5330.112903</td>\n",
              "      <td>3374.0</td>\n",
              "      <td>1616.0</td>\n",
              "      <td>10.16</td>\n",
              "      <td>15.24</td>\n",
              "      <td>20.32</td>\n",
              "    </tr>\n",
              "    <tr>\n",
              "      <th>4</th>\n",
              "      <td>bo</td>\n",
              "      <td>Bolivia</td>\n",
              "      <td>4991.000000</td>\n",
              "      <td>3155.0</td>\n",
              "      <td>1836.0</td>\n",
              "      <td>7.99</td>\n",
              "      <td>10.99</td>\n",
              "      <td>13.99</td>\n",
              "    </tr>\n",
              "  </tbody>\n",
              "</table>\n",
              "</div>\n",
              "      <button class=\"colab-df-convert\" onclick=\"convertToInteractive('df-e8aefec9-45d2-457f-8d24-0ae2c86000d8')\"\n",
              "              title=\"Convert this dataframe to an interactive table.\"\n",
              "              style=\"display:none;\">\n",
              "        \n",
              "  <svg xmlns=\"http://www.w3.org/2000/svg\" height=\"24px\"viewBox=\"0 0 24 24\"\n",
              "       width=\"24px\">\n",
              "    <path d=\"M0 0h24v24H0V0z\" fill=\"none\"/>\n",
              "    <path d=\"M18.56 5.44l.94 2.06.94-2.06 2.06-.94-2.06-.94-.94-2.06-.94 2.06-2.06.94zm-11 1L8.5 8.5l.94-2.06 2.06-.94-2.06-.94L8.5 2.5l-.94 2.06-2.06.94zm10 10l.94 2.06.94-2.06 2.06-.94-2.06-.94-.94-2.06-.94 2.06-2.06.94z\"/><path d=\"M17.41 7.96l-1.37-1.37c-.4-.4-.92-.59-1.43-.59-.52 0-1.04.2-1.43.59L10.3 9.45l-7.72 7.72c-.78.78-.78 2.05 0 2.83L4 21.41c.39.39.9.59 1.41.59.51 0 1.02-.2 1.41-.59l7.78-7.78 2.81-2.81c.8-.78.8-2.07 0-2.86zM5.41 20L4 18.59l7.72-7.72 1.47 1.35L5.41 20z\"/>\n",
              "  </svg>\n",
              "      </button>\n",
              "      \n",
              "  <style>\n",
              "    .colab-df-container {\n",
              "      display:flex;\n",
              "      flex-wrap:wrap;\n",
              "      gap: 12px;\n",
              "    }\n",
              "\n",
              "    .colab-df-convert {\n",
              "      background-color: #E8F0FE;\n",
              "      border: none;\n",
              "      border-radius: 50%;\n",
              "      cursor: pointer;\n",
              "      display: none;\n",
              "      fill: #1967D2;\n",
              "      height: 32px;\n",
              "      padding: 0 0 0 0;\n",
              "      width: 32px;\n",
              "    }\n",
              "\n",
              "    .colab-df-convert:hover {\n",
              "      background-color: #E2EBFA;\n",
              "      box-shadow: 0px 1px 2px rgba(60, 64, 67, 0.3), 0px 1px 3px 1px rgba(60, 64, 67, 0.15);\n",
              "      fill: #174EA6;\n",
              "    }\n",
              "\n",
              "    [theme=dark] .colab-df-convert {\n",
              "      background-color: #3B4455;\n",
              "      fill: #D2E3FC;\n",
              "    }\n",
              "\n",
              "    [theme=dark] .colab-df-convert:hover {\n",
              "      background-color: #434B5C;\n",
              "      box-shadow: 0px 1px 3px 1px rgba(0, 0, 0, 0.15);\n",
              "      filter: drop-shadow(0px 1px 2px rgba(0, 0, 0, 0.3));\n",
              "      fill: #FFFFFF;\n",
              "    }\n",
              "  </style>\n",
              "\n",
              "      <script>\n",
              "        const buttonEl =\n",
              "          document.querySelector('#df-e8aefec9-45d2-457f-8d24-0ae2c86000d8 button.colab-df-convert');\n",
              "        buttonEl.style.display =\n",
              "          google.colab.kernel.accessAllowed ? 'block' : 'none';\n",
              "\n",
              "        async function convertToInteractive(key) {\n",
              "          const element = document.querySelector('#df-e8aefec9-45d2-457f-8d24-0ae2c86000d8');\n",
              "          const dataTable =\n",
              "            await google.colab.kernel.invokeFunction('convertToInteractive',\n",
              "                                                     [key], {});\n",
              "          if (!dataTable) return;\n",
              "\n",
              "          const docLinkHtml = 'Like what you see? Visit the ' +\n",
              "            '<a target=\"_blank\" href=https://colab.research.google.com/notebooks/data_table.ipynb>data table notebook</a>'\n",
              "            + ' to learn more about interactive tables.';\n",
              "          element.innerHTML = '';\n",
              "          dataTable['output_type'] = 'display_data';\n",
              "          await google.colab.output.renderOutput(dataTable, element);\n",
              "          const docLink = document.createElement('div');\n",
              "          docLink.innerHTML = docLinkHtml;\n",
              "          element.appendChild(docLink);\n",
              "        }\n",
              "      </script>\n",
              "    </div>\n",
              "  </div>\n",
              "  "
            ]
          },
          "metadata": {},
          "execution_count": 14
        }
      ]
    },
    {
      "cell_type": "markdown",
      "source": [
        "#### 3. Imputar con la mediana"
      ],
      "metadata": {
        "id": "ZoTw3iUZhSjZ"
      }
    },
    {
      "cell_type": "code",
      "source": [
        "mediana = netflix.median()\n",
        "mediana"
      ],
      "metadata": {
        "colab": {
          "base_uri": "https://localhost:8080/"
        },
        "id": "XSSiDpTKhcjR",
        "outputId": "ca4a0db3-c3ef-4af1-dfbf-6656f74ed2ec"
      },
      "execution_count": null,
      "outputs": [
        {
          "output_type": "stream",
          "name": "stderr",
          "text": [
            "/usr/local/lib/python3.7/dist-packages/ipykernel_launcher.py:1: FutureWarning: Dropping of nuisance columns in DataFrame reductions (with 'numeric_only=None') is deprecated; in a future version this will raise TypeError.  Select only valid columns before calling the reduction.\n",
            "  \"\"\"Entry point for launching an IPython kernel.\n"
          ]
        },
        {
          "output_type": "execute_result",
          "data": {
            "text/plain": [
              "Total Library Size               5266.000\n",
              "No. of TV Shows                  3512.000\n",
              "No. of Movies                    1846.500\n",
              "Cost Per Month - Basic ($)          8.990\n",
              "Cost Per Month - Standard ($)      11.490\n",
              "Cost Per Month - Premium ($)       14.345\n",
              "dtype: float64"
            ]
          },
          "metadata": {},
          "execution_count": 15
        }
      ]
    },
    {
      "cell_type": "code",
      "source": [
        "datos2_3 = netflix.fillna(mediana)\n",
        "datos2_3.isnull().sum()"
      ],
      "metadata": {
        "colab": {
          "base_uri": "https://localhost:8080/"
        },
        "id": "mKUo5ek4hkAJ",
        "outputId": "8641e6a2-aa7d-4dc5-d9b5-038d4bba009c"
      },
      "execution_count": null,
      "outputs": [
        {
          "output_type": "execute_result",
          "data": {
            "text/plain": [
              "Country_code                     0\n",
              "Country                          0\n",
              "Total Library Size               0\n",
              "No. of TV Shows                  0\n",
              "No. of Movies                    0\n",
              "Cost Per Month - Basic ($)       0\n",
              "Cost Per Month - Standard ($)    0\n",
              "Cost Per Month - Premium ($)     0\n",
              "dtype: int64"
            ]
          },
          "metadata": {},
          "execution_count": 16
        }
      ]
    },
    {
      "cell_type": "markdown",
      "source": [
        " #### 4.Reemplazar NAs por cero"
      ],
      "metadata": {
        "id": "onqcfXkGhzk5"
      }
    },
    {
      "cell_type": "code",
      "source": [
        "datos2_4 = netflix.fillna(0)\n",
        "datos2_4.head()"
      ],
      "metadata": {
        "colab": {
          "base_uri": "https://localhost:8080/",
          "height": 268
        },
        "id": "AkZpwSUMh6YR",
        "outputId": "ddf1ec9f-d9cb-4ab9-e815-16d6e770c7c6"
      },
      "execution_count": null,
      "outputs": [
        {
          "output_type": "execute_result",
          "data": {
            "text/plain": [
              "  Country_code    Country  Total Library Size  No. of TV Shows  No. of Movies  \\\n",
              "0           ar  Argentina              4760.0           3154.0         1606.0   \n",
              "1           au  Australia              6114.0           4050.0         2064.0   \n",
              "2           at    Austria              5640.0           3779.0         1861.0   \n",
              "3           be    Belgium                 0.0           3374.0         1616.0   \n",
              "4           bo    Bolivia              4991.0           3155.0         1836.0   \n",
              "\n",
              "   Cost Per Month - Basic ($)  Cost Per Month - Standard ($)  \\\n",
              "0                        3.74                           6.30   \n",
              "1                        7.84                          12.12   \n",
              "2                        9.03                          14.67   \n",
              "3                       10.16                          15.24   \n",
              "4                        7.99                          10.99   \n",
              "\n",
              "   Cost Per Month - Premium ($)  \n",
              "0                          9.26  \n",
              "1                         16.39  \n",
              "2                         20.32  \n",
              "3                         20.32  \n",
              "4                         13.99  "
            ],
            "text/html": [
              "\n",
              "  <div id=\"df-b11aa9ce-e9f7-466e-a550-2aeae25424e3\">\n",
              "    <div class=\"colab-df-container\">\n",
              "      <div>\n",
              "<style scoped>\n",
              "    .dataframe tbody tr th:only-of-type {\n",
              "        vertical-align: middle;\n",
              "    }\n",
              "\n",
              "    .dataframe tbody tr th {\n",
              "        vertical-align: top;\n",
              "    }\n",
              "\n",
              "    .dataframe thead th {\n",
              "        text-align: right;\n",
              "    }\n",
              "</style>\n",
              "<table border=\"1\" class=\"dataframe\">\n",
              "  <thead>\n",
              "    <tr style=\"text-align: right;\">\n",
              "      <th></th>\n",
              "      <th>Country_code</th>\n",
              "      <th>Country</th>\n",
              "      <th>Total Library Size</th>\n",
              "      <th>No. of TV Shows</th>\n",
              "      <th>No. of Movies</th>\n",
              "      <th>Cost Per Month - Basic ($)</th>\n",
              "      <th>Cost Per Month - Standard ($)</th>\n",
              "      <th>Cost Per Month - Premium ($)</th>\n",
              "    </tr>\n",
              "  </thead>\n",
              "  <tbody>\n",
              "    <tr>\n",
              "      <th>0</th>\n",
              "      <td>ar</td>\n",
              "      <td>Argentina</td>\n",
              "      <td>4760.0</td>\n",
              "      <td>3154.0</td>\n",
              "      <td>1606.0</td>\n",
              "      <td>3.74</td>\n",
              "      <td>6.30</td>\n",
              "      <td>9.26</td>\n",
              "    </tr>\n",
              "    <tr>\n",
              "      <th>1</th>\n",
              "      <td>au</td>\n",
              "      <td>Australia</td>\n",
              "      <td>6114.0</td>\n",
              "      <td>4050.0</td>\n",
              "      <td>2064.0</td>\n",
              "      <td>7.84</td>\n",
              "      <td>12.12</td>\n",
              "      <td>16.39</td>\n",
              "    </tr>\n",
              "    <tr>\n",
              "      <th>2</th>\n",
              "      <td>at</td>\n",
              "      <td>Austria</td>\n",
              "      <td>5640.0</td>\n",
              "      <td>3779.0</td>\n",
              "      <td>1861.0</td>\n",
              "      <td>9.03</td>\n",
              "      <td>14.67</td>\n",
              "      <td>20.32</td>\n",
              "    </tr>\n",
              "    <tr>\n",
              "      <th>3</th>\n",
              "      <td>be</td>\n",
              "      <td>Belgium</td>\n",
              "      <td>0.0</td>\n",
              "      <td>3374.0</td>\n",
              "      <td>1616.0</td>\n",
              "      <td>10.16</td>\n",
              "      <td>15.24</td>\n",
              "      <td>20.32</td>\n",
              "    </tr>\n",
              "    <tr>\n",
              "      <th>4</th>\n",
              "      <td>bo</td>\n",
              "      <td>Bolivia</td>\n",
              "      <td>4991.0</td>\n",
              "      <td>3155.0</td>\n",
              "      <td>1836.0</td>\n",
              "      <td>7.99</td>\n",
              "      <td>10.99</td>\n",
              "      <td>13.99</td>\n",
              "    </tr>\n",
              "  </tbody>\n",
              "</table>\n",
              "</div>\n",
              "      <button class=\"colab-df-convert\" onclick=\"convertToInteractive('df-b11aa9ce-e9f7-466e-a550-2aeae25424e3')\"\n",
              "              title=\"Convert this dataframe to an interactive table.\"\n",
              "              style=\"display:none;\">\n",
              "        \n",
              "  <svg xmlns=\"http://www.w3.org/2000/svg\" height=\"24px\"viewBox=\"0 0 24 24\"\n",
              "       width=\"24px\">\n",
              "    <path d=\"M0 0h24v24H0V0z\" fill=\"none\"/>\n",
              "    <path d=\"M18.56 5.44l.94 2.06.94-2.06 2.06-.94-2.06-.94-.94-2.06-.94 2.06-2.06.94zm-11 1L8.5 8.5l.94-2.06 2.06-.94-2.06-.94L8.5 2.5l-.94 2.06-2.06.94zm10 10l.94 2.06.94-2.06 2.06-.94-2.06-.94-.94-2.06-.94 2.06-2.06.94z\"/><path d=\"M17.41 7.96l-1.37-1.37c-.4-.4-.92-.59-1.43-.59-.52 0-1.04.2-1.43.59L10.3 9.45l-7.72 7.72c-.78.78-.78 2.05 0 2.83L4 21.41c.39.39.9.59 1.41.59.51 0 1.02-.2 1.41-.59l7.78-7.78 2.81-2.81c.8-.78.8-2.07 0-2.86zM5.41 20L4 18.59l7.72-7.72 1.47 1.35L5.41 20z\"/>\n",
              "  </svg>\n",
              "      </button>\n",
              "      \n",
              "  <style>\n",
              "    .colab-df-container {\n",
              "      display:flex;\n",
              "      flex-wrap:wrap;\n",
              "      gap: 12px;\n",
              "    }\n",
              "\n",
              "    .colab-df-convert {\n",
              "      background-color: #E8F0FE;\n",
              "      border: none;\n",
              "      border-radius: 50%;\n",
              "      cursor: pointer;\n",
              "      display: none;\n",
              "      fill: #1967D2;\n",
              "      height: 32px;\n",
              "      padding: 0 0 0 0;\n",
              "      width: 32px;\n",
              "    }\n",
              "\n",
              "    .colab-df-convert:hover {\n",
              "      background-color: #E2EBFA;\n",
              "      box-shadow: 0px 1px 2px rgba(60, 64, 67, 0.3), 0px 1px 3px 1px rgba(60, 64, 67, 0.15);\n",
              "      fill: #174EA6;\n",
              "    }\n",
              "\n",
              "    [theme=dark] .colab-df-convert {\n",
              "      background-color: #3B4455;\n",
              "      fill: #D2E3FC;\n",
              "    }\n",
              "\n",
              "    [theme=dark] .colab-df-convert:hover {\n",
              "      background-color: #434B5C;\n",
              "      box-shadow: 0px 1px 3px 1px rgba(0, 0, 0, 0.15);\n",
              "      filter: drop-shadow(0px 1px 2px rgba(0, 0, 0, 0.3));\n",
              "      fill: #FFFFFF;\n",
              "    }\n",
              "  </style>\n",
              "\n",
              "      <script>\n",
              "        const buttonEl =\n",
              "          document.querySelector('#df-b11aa9ce-e9f7-466e-a550-2aeae25424e3 button.colab-df-convert');\n",
              "        buttonEl.style.display =\n",
              "          google.colab.kernel.accessAllowed ? 'block' : 'none';\n",
              "\n",
              "        async function convertToInteractive(key) {\n",
              "          const element = document.querySelector('#df-b11aa9ce-e9f7-466e-a550-2aeae25424e3');\n",
              "          const dataTable =\n",
              "            await google.colab.kernel.invokeFunction('convertToInteractive',\n",
              "                                                     [key], {});\n",
              "          if (!dataTable) return;\n",
              "\n",
              "          const docLinkHtml = 'Like what you see? Visit the ' +\n",
              "            '<a target=\"_blank\" href=https://colab.research.google.com/notebooks/data_table.ipynb>data table notebook</a>'\n",
              "            + ' to learn more about interactive tables.';\n",
              "          element.innerHTML = '';\n",
              "          dataTable['output_type'] = 'display_data';\n",
              "          await google.colab.output.renderOutput(dataTable, element);\n",
              "          const docLink = document.createElement('div');\n",
              "          docLink.innerHTML = docLinkHtml;\n",
              "          element.appendChild(docLink);\n",
              "        }\n",
              "      </script>\n",
              "    </div>\n",
              "  </div>\n",
              "  "
            ]
          },
          "metadata": {},
          "execution_count": 17
        }
      ]
    },
    {
      "cell_type": "markdown",
      "source": [
        "### 3. Seleccionar la mejor opción para los puntos siguientes:"
      ],
      "metadata": {
        "id": "dCzeLhq1iUCp"
      }
    },
    {
      "cell_type": "markdown",
      "source": [
        "#### 1. Analizar, por país, empleando las funciones que se indican en la siguiente diapositiva.\n",
        "\n",
        "\n",
        "El dataset seleccionado solo contiene una observacion por pais, por lo cual agrupar los valores no tendria mucho sentido. \n",
        "\n",
        "**Para Variables cualitaticas**: \n"
      ],
      "metadata": {
        "id": "fW4LGFtsieYB"
      }
    },
    {
      "cell_type": "code",
      "source": [
        "datos2_3.select_dtypes(\"object\").describe()"
      ],
      "metadata": {
        "colab": {
          "base_uri": "https://localhost:8080/",
          "height": 175
        },
        "id": "BbXZ9KTvmAVI",
        "outputId": "bbe791e2-5075-43d3-ddb5-889b7287727f"
      },
      "execution_count": null,
      "outputs": [
        {
          "output_type": "execute_result",
          "data": {
            "text/plain": [
              "       Country_code    Country\n",
              "count            65         65\n",
              "unique           65         65\n",
              "top              ar  Argentina\n",
              "freq              1          1"
            ],
            "text/html": [
              "\n",
              "  <div id=\"df-e04be92b-3788-40d4-ad71-03c91e4bc513\">\n",
              "    <div class=\"colab-df-container\">\n",
              "      <div>\n",
              "<style scoped>\n",
              "    .dataframe tbody tr th:only-of-type {\n",
              "        vertical-align: middle;\n",
              "    }\n",
              "\n",
              "    .dataframe tbody tr th {\n",
              "        vertical-align: top;\n",
              "    }\n",
              "\n",
              "    .dataframe thead th {\n",
              "        text-align: right;\n",
              "    }\n",
              "</style>\n",
              "<table border=\"1\" class=\"dataframe\">\n",
              "  <thead>\n",
              "    <tr style=\"text-align: right;\">\n",
              "      <th></th>\n",
              "      <th>Country_code</th>\n",
              "      <th>Country</th>\n",
              "    </tr>\n",
              "  </thead>\n",
              "  <tbody>\n",
              "    <tr>\n",
              "      <th>count</th>\n",
              "      <td>65</td>\n",
              "      <td>65</td>\n",
              "    </tr>\n",
              "    <tr>\n",
              "      <th>unique</th>\n",
              "      <td>65</td>\n",
              "      <td>65</td>\n",
              "    </tr>\n",
              "    <tr>\n",
              "      <th>top</th>\n",
              "      <td>ar</td>\n",
              "      <td>Argentina</td>\n",
              "    </tr>\n",
              "    <tr>\n",
              "      <th>freq</th>\n",
              "      <td>1</td>\n",
              "      <td>1</td>\n",
              "    </tr>\n",
              "  </tbody>\n",
              "</table>\n",
              "</div>\n",
              "      <button class=\"colab-df-convert\" onclick=\"convertToInteractive('df-e04be92b-3788-40d4-ad71-03c91e4bc513')\"\n",
              "              title=\"Convert this dataframe to an interactive table.\"\n",
              "              style=\"display:none;\">\n",
              "        \n",
              "  <svg xmlns=\"http://www.w3.org/2000/svg\" height=\"24px\"viewBox=\"0 0 24 24\"\n",
              "       width=\"24px\">\n",
              "    <path d=\"M0 0h24v24H0V0z\" fill=\"none\"/>\n",
              "    <path d=\"M18.56 5.44l.94 2.06.94-2.06 2.06-.94-2.06-.94-.94-2.06-.94 2.06-2.06.94zm-11 1L8.5 8.5l.94-2.06 2.06-.94-2.06-.94L8.5 2.5l-.94 2.06-2.06.94zm10 10l.94 2.06.94-2.06 2.06-.94-2.06-.94-.94-2.06-.94 2.06-2.06.94z\"/><path d=\"M17.41 7.96l-1.37-1.37c-.4-.4-.92-.59-1.43-.59-.52 0-1.04.2-1.43.59L10.3 9.45l-7.72 7.72c-.78.78-.78 2.05 0 2.83L4 21.41c.39.39.9.59 1.41.59.51 0 1.02-.2 1.41-.59l7.78-7.78 2.81-2.81c.8-.78.8-2.07 0-2.86zM5.41 20L4 18.59l7.72-7.72 1.47 1.35L5.41 20z\"/>\n",
              "  </svg>\n",
              "      </button>\n",
              "      \n",
              "  <style>\n",
              "    .colab-df-container {\n",
              "      display:flex;\n",
              "      flex-wrap:wrap;\n",
              "      gap: 12px;\n",
              "    }\n",
              "\n",
              "    .colab-df-convert {\n",
              "      background-color: #E8F0FE;\n",
              "      border: none;\n",
              "      border-radius: 50%;\n",
              "      cursor: pointer;\n",
              "      display: none;\n",
              "      fill: #1967D2;\n",
              "      height: 32px;\n",
              "      padding: 0 0 0 0;\n",
              "      width: 32px;\n",
              "    }\n",
              "\n",
              "    .colab-df-convert:hover {\n",
              "      background-color: #E2EBFA;\n",
              "      box-shadow: 0px 1px 2px rgba(60, 64, 67, 0.3), 0px 1px 3px 1px rgba(60, 64, 67, 0.15);\n",
              "      fill: #174EA6;\n",
              "    }\n",
              "\n",
              "    [theme=dark] .colab-df-convert {\n",
              "      background-color: #3B4455;\n",
              "      fill: #D2E3FC;\n",
              "    }\n",
              "\n",
              "    [theme=dark] .colab-df-convert:hover {\n",
              "      background-color: #434B5C;\n",
              "      box-shadow: 0px 1px 3px 1px rgba(0, 0, 0, 0.15);\n",
              "      filter: drop-shadow(0px 1px 2px rgba(0, 0, 0, 0.3));\n",
              "      fill: #FFFFFF;\n",
              "    }\n",
              "  </style>\n",
              "\n",
              "      <script>\n",
              "        const buttonEl =\n",
              "          document.querySelector('#df-e04be92b-3788-40d4-ad71-03c91e4bc513 button.colab-df-convert');\n",
              "        buttonEl.style.display =\n",
              "          google.colab.kernel.accessAllowed ? 'block' : 'none';\n",
              "\n",
              "        async function convertToInteractive(key) {\n",
              "          const element = document.querySelector('#df-e04be92b-3788-40d4-ad71-03c91e4bc513');\n",
              "          const dataTable =\n",
              "            await google.colab.kernel.invokeFunction('convertToInteractive',\n",
              "                                                     [key], {});\n",
              "          if (!dataTable) return;\n",
              "\n",
              "          const docLinkHtml = 'Like what you see? Visit the ' +\n",
              "            '<a target=\"_blank\" href=https://colab.research.google.com/notebooks/data_table.ipynb>data table notebook</a>'\n",
              "            + ' to learn more about interactive tables.';\n",
              "          element.innerHTML = '';\n",
              "          dataTable['output_type'] = 'display_data';\n",
              "          await google.colab.output.renderOutput(dataTable, element);\n",
              "          const docLink = document.createElement('div');\n",
              "          docLink.innerHTML = docLinkHtml;\n",
              "          element.appendChild(docLink);\n",
              "        }\n",
              "      </script>\n",
              "    </div>\n",
              "  </div>\n",
              "  "
            ]
          },
          "metadata": {},
          "execution_count": 18
        }
      ]
    },
    {
      "cell_type": "markdown",
      "source": [
        "Como era de esperar las variables categoricas no aportan indormacion "
      ],
      "metadata": {
        "id": "RJMfg50dmY7n"
      }
    },
    {
      "cell_type": "markdown",
      "source": [
        "**Para variables continuas**"
      ],
      "metadata": {
        "id": "oL6oglflmgLZ"
      }
    },
    {
      "cell_type": "code",
      "source": [
        "datos2_3.select_dtypes(\"float\").describe()"
      ],
      "metadata": {
        "colab": {
          "base_uri": "https://localhost:8080/",
          "height": 362
        },
        "id": "6qq_TP42mmIQ",
        "outputId": "fd1c0575-640f-4b75-b622-8567df62766c"
      },
      "execution_count": null,
      "outputs": [
        {
          "output_type": "execute_result",
          "data": {
            "text/plain": [
              "       Total Library Size  No. of TV Shows  No. of Movies  \\\n",
              "count           65.000000        65.000000      65.000000   \n",
              "mean          5327.153846      3522.261538    1792.100000   \n",
              "std            977.774853       721.373674     325.337543   \n",
              "min           2274.000000      1675.000000     373.000000   \n",
              "25%           4948.000000      3154.000000    1628.000000   \n",
              "50%           5266.000000      3512.000000    1846.500000   \n",
              "75%           5952.000000      3832.000000    1978.000000   \n",
              "max           7325.000000      5234.000000    2387.000000   \n",
              "\n",
              "       Cost Per Month - Basic ($)  Cost Per Month - Standard ($)  \\\n",
              "count                   65.000000                      65.000000   \n",
              "mean                     8.391385                      12.065692   \n",
              "std                      1.940564                       2.797354   \n",
              "min                      1.970000                       3.000000   \n",
              "25%                      7.990000                      10.990000   \n",
              "50%                      8.990000                      11.490000   \n",
              "75%                      9.030000                      13.540000   \n",
              "max                     12.880000                      20.460000   \n",
              "\n",
              "       Cost Per Month - Premium ($)  \n",
              "count                     65.000000  \n",
              "mean                      15.374846  \n",
              "std                        3.765484  \n",
              "min                        4.020000  \n",
              "25%                       13.540000  \n",
              "50%                       14.345000  \n",
              "75%                       18.060000  \n",
              "max                       26.960000  "
            ],
            "text/html": [
              "\n",
              "  <div id=\"df-1137f2db-710d-4bc0-95fc-95250275f99a\">\n",
              "    <div class=\"colab-df-container\">\n",
              "      <div>\n",
              "<style scoped>\n",
              "    .dataframe tbody tr th:only-of-type {\n",
              "        vertical-align: middle;\n",
              "    }\n",
              "\n",
              "    .dataframe tbody tr th {\n",
              "        vertical-align: top;\n",
              "    }\n",
              "\n",
              "    .dataframe thead th {\n",
              "        text-align: right;\n",
              "    }\n",
              "</style>\n",
              "<table border=\"1\" class=\"dataframe\">\n",
              "  <thead>\n",
              "    <tr style=\"text-align: right;\">\n",
              "      <th></th>\n",
              "      <th>Total Library Size</th>\n",
              "      <th>No. of TV Shows</th>\n",
              "      <th>No. of Movies</th>\n",
              "      <th>Cost Per Month - Basic ($)</th>\n",
              "      <th>Cost Per Month - Standard ($)</th>\n",
              "      <th>Cost Per Month - Premium ($)</th>\n",
              "    </tr>\n",
              "  </thead>\n",
              "  <tbody>\n",
              "    <tr>\n",
              "      <th>count</th>\n",
              "      <td>65.000000</td>\n",
              "      <td>65.000000</td>\n",
              "      <td>65.000000</td>\n",
              "      <td>65.000000</td>\n",
              "      <td>65.000000</td>\n",
              "      <td>65.000000</td>\n",
              "    </tr>\n",
              "    <tr>\n",
              "      <th>mean</th>\n",
              "      <td>5327.153846</td>\n",
              "      <td>3522.261538</td>\n",
              "      <td>1792.100000</td>\n",
              "      <td>8.391385</td>\n",
              "      <td>12.065692</td>\n",
              "      <td>15.374846</td>\n",
              "    </tr>\n",
              "    <tr>\n",
              "      <th>std</th>\n",
              "      <td>977.774853</td>\n",
              "      <td>721.373674</td>\n",
              "      <td>325.337543</td>\n",
              "      <td>1.940564</td>\n",
              "      <td>2.797354</td>\n",
              "      <td>3.765484</td>\n",
              "    </tr>\n",
              "    <tr>\n",
              "      <th>min</th>\n",
              "      <td>2274.000000</td>\n",
              "      <td>1675.000000</td>\n",
              "      <td>373.000000</td>\n",
              "      <td>1.970000</td>\n",
              "      <td>3.000000</td>\n",
              "      <td>4.020000</td>\n",
              "    </tr>\n",
              "    <tr>\n",
              "      <th>25%</th>\n",
              "      <td>4948.000000</td>\n",
              "      <td>3154.000000</td>\n",
              "      <td>1628.000000</td>\n",
              "      <td>7.990000</td>\n",
              "      <td>10.990000</td>\n",
              "      <td>13.540000</td>\n",
              "    </tr>\n",
              "    <tr>\n",
              "      <th>50%</th>\n",
              "      <td>5266.000000</td>\n",
              "      <td>3512.000000</td>\n",
              "      <td>1846.500000</td>\n",
              "      <td>8.990000</td>\n",
              "      <td>11.490000</td>\n",
              "      <td>14.345000</td>\n",
              "    </tr>\n",
              "    <tr>\n",
              "      <th>75%</th>\n",
              "      <td>5952.000000</td>\n",
              "      <td>3832.000000</td>\n",
              "      <td>1978.000000</td>\n",
              "      <td>9.030000</td>\n",
              "      <td>13.540000</td>\n",
              "      <td>18.060000</td>\n",
              "    </tr>\n",
              "    <tr>\n",
              "      <th>max</th>\n",
              "      <td>7325.000000</td>\n",
              "      <td>5234.000000</td>\n",
              "      <td>2387.000000</td>\n",
              "      <td>12.880000</td>\n",
              "      <td>20.460000</td>\n",
              "      <td>26.960000</td>\n",
              "    </tr>\n",
              "  </tbody>\n",
              "</table>\n",
              "</div>\n",
              "      <button class=\"colab-df-convert\" onclick=\"convertToInteractive('df-1137f2db-710d-4bc0-95fc-95250275f99a')\"\n",
              "              title=\"Convert this dataframe to an interactive table.\"\n",
              "              style=\"display:none;\">\n",
              "        \n",
              "  <svg xmlns=\"http://www.w3.org/2000/svg\" height=\"24px\"viewBox=\"0 0 24 24\"\n",
              "       width=\"24px\">\n",
              "    <path d=\"M0 0h24v24H0V0z\" fill=\"none\"/>\n",
              "    <path d=\"M18.56 5.44l.94 2.06.94-2.06 2.06-.94-2.06-.94-.94-2.06-.94 2.06-2.06.94zm-11 1L8.5 8.5l.94-2.06 2.06-.94-2.06-.94L8.5 2.5l-.94 2.06-2.06.94zm10 10l.94 2.06.94-2.06 2.06-.94-2.06-.94-.94-2.06-.94 2.06-2.06.94z\"/><path d=\"M17.41 7.96l-1.37-1.37c-.4-.4-.92-.59-1.43-.59-.52 0-1.04.2-1.43.59L10.3 9.45l-7.72 7.72c-.78.78-.78 2.05 0 2.83L4 21.41c.39.39.9.59 1.41.59.51 0 1.02-.2 1.41-.59l7.78-7.78 2.81-2.81c.8-.78.8-2.07 0-2.86zM5.41 20L4 18.59l7.72-7.72 1.47 1.35L5.41 20z\"/>\n",
              "  </svg>\n",
              "      </button>\n",
              "      \n",
              "  <style>\n",
              "    .colab-df-container {\n",
              "      display:flex;\n",
              "      flex-wrap:wrap;\n",
              "      gap: 12px;\n",
              "    }\n",
              "\n",
              "    .colab-df-convert {\n",
              "      background-color: #E8F0FE;\n",
              "      border: none;\n",
              "      border-radius: 50%;\n",
              "      cursor: pointer;\n",
              "      display: none;\n",
              "      fill: #1967D2;\n",
              "      height: 32px;\n",
              "      padding: 0 0 0 0;\n",
              "      width: 32px;\n",
              "    }\n",
              "\n",
              "    .colab-df-convert:hover {\n",
              "      background-color: #E2EBFA;\n",
              "      box-shadow: 0px 1px 2px rgba(60, 64, 67, 0.3), 0px 1px 3px 1px rgba(60, 64, 67, 0.15);\n",
              "      fill: #174EA6;\n",
              "    }\n",
              "\n",
              "    [theme=dark] .colab-df-convert {\n",
              "      background-color: #3B4455;\n",
              "      fill: #D2E3FC;\n",
              "    }\n",
              "\n",
              "    [theme=dark] .colab-df-convert:hover {\n",
              "      background-color: #434B5C;\n",
              "      box-shadow: 0px 1px 3px 1px rgba(0, 0, 0, 0.15);\n",
              "      filter: drop-shadow(0px 1px 2px rgba(0, 0, 0, 0.3));\n",
              "      fill: #FFFFFF;\n",
              "    }\n",
              "  </style>\n",
              "\n",
              "      <script>\n",
              "        const buttonEl =\n",
              "          document.querySelector('#df-1137f2db-710d-4bc0-95fc-95250275f99a button.colab-df-convert');\n",
              "        buttonEl.style.display =\n",
              "          google.colab.kernel.accessAllowed ? 'block' : 'none';\n",
              "\n",
              "        async function convertToInteractive(key) {\n",
              "          const element = document.querySelector('#df-1137f2db-710d-4bc0-95fc-95250275f99a');\n",
              "          const dataTable =\n",
              "            await google.colab.kernel.invokeFunction('convertToInteractive',\n",
              "                                                     [key], {});\n",
              "          if (!dataTable) return;\n",
              "\n",
              "          const docLinkHtml = 'Like what you see? Visit the ' +\n",
              "            '<a target=\"_blank\" href=https://colab.research.google.com/notebooks/data_table.ipynb>data table notebook</a>'\n",
              "            + ' to learn more about interactive tables.';\n",
              "          element.innerHTML = '';\n",
              "          dataTable['output_type'] = 'display_data';\n",
              "          await google.colab.output.renderOutput(dataTable, element);\n",
              "          const docLink = document.createElement('div');\n",
              "          docLink.innerHTML = docLinkHtml;\n",
              "          element.appendChild(docLink);\n",
              "        }\n",
              "      </script>\n",
              "    </div>\n",
              "  </div>\n",
              "  "
            ]
          },
          "metadata": {},
          "execution_count": 19
        }
      ]
    },
    {
      "cell_type": "markdown",
      "source": [
        "#### Realizar tres (3) diagramas de caja empleando seaborn.boxplot"
      ],
      "metadata": {
        "id": "Ybepp9D5m9jw"
      }
    },
    {
      "cell_type": "code",
      "source": [
        "fig, ax = plt.subplots(figsize=(7,10))\n",
        "sns.boxplot(data = datos2_3 , y =\"Total Library Size\", width=0.6,ax=ax)\n",
        "ax.set_title(\"Tamaño total de la biblioteca\",size=15)"
      ],
      "metadata": {
        "colab": {
          "base_uri": "https://localhost:8080/",
          "height": 613
        },
        "id": "taq7rSy2ok8f",
        "outputId": "ddb0e10f-b180-4fa8-ea85-3518442c2c05"
      },
      "execution_count": null,
      "outputs": [
        {
          "output_type": "execute_result",
          "data": {
            "text/plain": [
              "Text(0.5, 1.0, 'Tamaño total de la biblioteca')"
            ]
          },
          "metadata": {},
          "execution_count": 20
        },
        {
          "output_type": "display_data",
          "data": {
            "text/plain": [
              "<Figure size 504x720 with 1 Axes>"
            ],
            "image/png": "[encoded data removed]"
          },
          "metadata": {
            "needs_background": "light"
          }
        }
      ]
    },
    {
      "cell_type": "code",
      "source": [
        "fig, ax2 = plt.subplots(figsize=(7,10))\n",
        "sns.boxplot(data = datos2_3 , y =\"No. of Movies\", width=0.6,ax=ax2)\n",
        "ax2.set_title(\"Número de peliculas\",size=15)\n"
      ],
      "metadata": {
        "colab": {
          "base_uri": "https://localhost:8080/",
          "height": 614
        },
        "id": "XWt-YpwPtsZ1",
        "outputId": "66edaec9-5054-4aa2-fd5d-4dfd4a14c002"
      },
      "execution_count": null,
      "outputs": [
        {
          "output_type": "execute_result",
          "data": {
            "text/plain": [
              "Text(0.5, 1.0, 'Número de peliculas')"
            ]
          },
          "metadata": {},
          "execution_count": 21
        },
        {
          "output_type": "display_data",
          "data": {
            "text/plain": [
              "<Figure size 504x720 with 1 Axes>"
            ],
            "image/png": "[encoded data removed]"
          },
          "metadata": {
            "needs_background": "light"
          }
        }
      ]
    },
    {
      "cell_type": "code",
      "source": [
        "fig, ax2 = plt.subplots(figsize=(7,10))\n",
        "sns.boxplot(data = datos2_3 , y =\"No. of TV Shows\", width=0.6,ax=ax2)\n",
        "ax2.set_title(\"No. of TV Shows\",size=15)"
      ],
      "metadata": {
        "colab": {
          "base_uri": "https://localhost:8080/",
          "height": 615
        },
        "id": "E6LTm8Xz5SxF",
        "outputId": "391e95cc-fb7d-46cc-ffee-dca451e8d2be"
      },
      "execution_count": null,
      "outputs": [
        {
          "output_type": "execute_result",
          "data": {
            "text/plain": [
              "Text(0.5, 1.0, 'No. of TV Shows')"
            ]
          },
          "metadata": {},
          "execution_count": 22
        },
        {
          "output_type": "display_data",
          "data": {
            "text/plain": [
              "<Figure size 504x720 with 1 Axes>"
            ],
            "image/png": "[encoded data removed]"
          },
          "metadata": {
            "needs_background": "light"
          }
        }
      ]
    },
    {
      "cell_type": "code",
      "source": [
        "sns.heatmap (datos2_3.corr(), annot = True)"
      ],
      "metadata": {
        "colab": {
          "base_uri": "https://localhost:8080/",
          "height": 424
        },
        "id": "Qwd_efCFuqAN",
        "outputId": "57d49804-f816-4d65-9960-c2521df93b5b"
      },
      "execution_count": null,
      "outputs": [
        {
          "output_type": "execute_result",
          "data": {
            "text/plain": [
              "<matplotlib.axes._subplots.AxesSubplot at 0x7ffa5859fb90>"
            ]
          },
          "metadata": {},
          "execution_count": 23
        },
        {
          "output_type": "display_data",
          "data": {
            "text/plain": [
              "<Figure size 432x288 with 2 Axes>"
            ],
            "image/png": "[encoded data removed]"
          },
          "metadata": {
            "needs_background": "light"
          }
        }
      ]
    },
    {
      "cell_type": "code",
      "source": [
        "nombres = datos2_3.columns\n",
        "filtro1 = [i for i in nombres if \"Cost\" in i]\n",
        "filtro1.append(\"Country\")\n",
        "costos = datos2_3[filtro1]\n",
        "costos.mean()\n",
        "\n",
        "\n"
      ],
      "metadata": {
        "colab": {
          "base_uri": "https://localhost:8080/"
        },
        "id": "jT_SgrfR_9-8",
        "outputId": "e52682c0-b9d4-407a-d064-561c162d5ecd"
      },
      "execution_count": null,
      "outputs": [
        {
          "output_type": "stream",
          "name": "stderr",
          "text": [
            "/usr/local/lib/python3.7/dist-packages/ipykernel_launcher.py:5: FutureWarning: Dropping of nuisance columns in DataFrame reductions (with 'numeric_only=None') is deprecated; in a future version this will raise TypeError.  Select only valid columns before calling the reduction.\n",
            "  \"\"\"\n"
          ]
        },
        {
          "output_type": "execute_result",
          "data": {
            "text/plain": [
              "Cost Per Month - Basic ($)        8.391385\n",
              "Cost Per Month - Standard ($)    12.065692\n",
              "Cost Per Month - Premium ($)     15.374846\n",
              "dtype: float64"
            ]
          },
          "metadata": {},
          "execution_count": 24
        }
      ]
    },
    {
      "cell_type": "code",
      "source": [
        "netflix[\"Country\"].to_excel(\"netflix.xlsx\")"
      ],
      "metadata": {
        "id": "CkjTCxm1BVw0"
      },
      "execution_count": null,
      "outputs": []
    }
  ]
}